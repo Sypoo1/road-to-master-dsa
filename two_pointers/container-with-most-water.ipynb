{
 "cells": [
  {
   "cell_type": "markdown",
   "id": "ab997b2b",
   "metadata": {},
   "source": [
    "https://leetcode.com/problems/container-with-most-water"
   ]
  }
 ],
 "metadata": {
  "language_info": {
   "name": "python"
  }
 },
 "nbformat": 4,
 "nbformat_minor": 5
}
