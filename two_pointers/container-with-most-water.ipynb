{
 "cells": [
  {
   "cell_type": "markdown",
   "id": "ab997b2b",
   "metadata": {},
   "source": [
    "https://leetcode.com/problems/container-with-most-water"
   ]
  },
  {
   "cell_type": "code",
   "execution_count": 3,
   "id": "4d48064c",
   "metadata": {},
   "outputs": [
    {
     "name": "stdout",
     "output_type": "stream",
     "text": [
      "49\n"
     ]
    }
   ],
   "source": [
    "class Solution:\n",
    "    def maxArea(self, height: list[int]) -> int:\n",
    "        n = len(height)\n",
    "        l = 0\n",
    "        r = n - 1\n",
    "        mv = -1\n",
    "\n",
    "        while l != r:\n",
    "            mv = max(mv, min(height[l], height[r]) * (r - l))\n",
    "            if height[l] <= height[r]:\n",
    "                l += 1\n",
    "            else:\n",
    "                r -= 1\n",
    "\n",
    "        return mv\n",
    "\n",
    "s = Solution()\n",
    "print(s.maxArea(height=[1,8,6,2,5,4,8,3,7]))"
   ]
  }
 ],
 "metadata": {
  "kernelspec": {
   "display_name": ".venv",
   "language": "python",
   "name": "python3"
  },
  "language_info": {
   "codemirror_mode": {
    "name": "ipython",
    "version": 3
   },
   "file_extension": ".py",
   "mimetype": "text/x-python",
   "name": "python",
   "nbconvert_exporter": "python",
   "pygments_lexer": "ipython3",
   "version": "3.12.9"
  }
 },
 "nbformat": 4,
 "nbformat_minor": 5
}
